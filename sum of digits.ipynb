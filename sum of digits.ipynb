{
 "cells": [
  {
   "cell_type": "code",
   "execution_count": 8,
   "id": "714f41ca",
   "metadata": {},
   "outputs": [
    {
     "name": "stdout",
     "output_type": "stream",
     "text": [
      "Enter the number\n",
      "12345\n",
      "sum of digit is 15\n"
     ]
    }
   ],
   "source": [
    "print('Enter the number')\n",
    "num= int(input())\n",
    "sum=0\n",
    "while True:\n",
    "    r=int(num % 10)\n",
    "    num=int(num/10)\n",
    "    sum=sum+r\n",
    "    if num<10:\n",
    "        sum=sum+num\n",
    "        break\n",
    "print(\"sum of digit is\",sum)"
   ]
  }
 ],
 "metadata": {
  "kernelspec": {
   "display_name": "Python 3",
   "language": "python",
   "name": "python3"
  },
  "language_info": {
   "codemirror_mode": {
    "name": "ipython",
    "version": 3
   },
   "file_extension": ".py",
   "mimetype": "text/x-python",
   "name": "python",
   "nbconvert_exporter": "python",
   "pygments_lexer": "ipython3",
   "version": "3.8.8"
  }
 },
 "nbformat": 4,
 "nbformat_minor": 5
}
