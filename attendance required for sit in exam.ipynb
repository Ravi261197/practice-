{
 "cells": [
  {
   "cell_type": "code",
   "execution_count": 20,
   "id": "250217b2",
   "metadata": {},
   "outputs": [
    {
     "name": "stdout",
     "output_type": "stream",
     "text": [
      "If you have medical certificate type y\n",
      "If you don't have medical certificate type n\n",
      "n\n",
      "Number of class held\n",
      "100\n",
      "Number of class attend\n",
      "80\n",
      "attendence is 80.0\n",
      "you are allowed to sit in exam\n"
     ]
    }
   ],
   "source": [
    "# code for student for sit in exam who have more than 75% attendance\n",
    "print(\"If you have medical certificate type y\")\n",
    "print(\"If you don't have medical certificate type n\")\n",
    "medical_cause=str(input())\n",
    "if medical_cause=='y':\n",
    "    print(\"your are allowed\")\n",
    "else:\n",
    "    print(\"Number of class held\")\n",
    "    noh=int(input())\n",
    "    print(\"Number of class attend\")\n",
    "    noa=int(input())\n",
    "    atten=(noa/float(noh))*100\n",
    "    print(\"attendence is\",atten)\n",
    "    if atten>=75:\n",
    "        print(\"you are allowed to sit in exam\")\n",
    "    else:\n",
    "        print('sorry,you are not allowed for exam')"
   ]
  }
 ],
 "metadata": {
  "kernelspec": {
   "display_name": "Python 3",
   "language": "python",
   "name": "python3"
  },
  "language_info": {
   "codemirror_mode": {
    "name": "ipython",
    "version": 3
   },
   "file_extension": ".py",
   "mimetype": "text/x-python",
   "name": "python",
   "nbconvert_exporter": "python",
   "pygments_lexer": "ipython3",
   "version": "3.8.8"
  }
 },
 "nbformat": 4,
 "nbformat_minor": 5
}
