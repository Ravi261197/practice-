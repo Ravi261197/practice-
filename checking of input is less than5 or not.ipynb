{
 "cells": [
  {
   "cell_type": "code",
   "execution_count": 17,
   "id": "c0a368c7",
   "metadata": {},
   "outputs": [
    {
     "name": "stdout",
     "output_type": "stream",
     "text": [
      "Enter first number\n",
      "4\n",
      "Enter second number\n",
      "5.5\n",
      "the sum is 9.5\n",
      "Sum is greater than 5\n"
     ]
    },
    {
     "data": {
      "text/plain": [
       "float"
      ]
     },
     "execution_count": 17,
     "metadata": {},
     "output_type": "execute_result"
    }
   ],
   "source": [
    "#check the sum of two input number is greater than 5 or not\n",
    "print(\"Enter first number\")\n",
    "first=float(input())\n",
    "print(\"Enter second number\")\n",
    "second=float(input())\n",
    "sum=float(first+second)\n",
    "print(\"the sum is\",sum)\n",
    "if (sum>5):\n",
    "    print(\"Sum is greater than 5\")\n",
    "elif (sum==5):\n",
    "    print(\"Sum is equal to 5\")\n",
    "elif(sum<5):\n",
    "    print(\"Sum is less than  5\")\n",
    "type(sum)"
   ]
  },
  {
   "cell_type": "code",
   "execution_count": null,
   "id": "fe85533d",
   "metadata": {},
   "outputs": [],
   "source": []
  }
 ],
 "metadata": {
  "kernelspec": {
   "display_name": "Python 3",
   "language": "python",
   "name": "python3"
  },
  "language_info": {
   "codemirror_mode": {
    "name": "ipython",
    "version": 3
   },
   "file_extension": ".py",
   "mimetype": "text/x-python",
   "name": "python",
   "nbconvert_exporter": "python",
   "pygments_lexer": "ipython3",
   "version": "3.8.8"
  }
 },
 "nbformat": 4,
 "nbformat_minor": 5
}
