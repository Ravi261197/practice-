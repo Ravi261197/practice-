{
  "nbformat": 4,
  "nbformat_minor": 0,
  "metadata": {
    "colab": {
      "name": "reverse of given number.ipynb",
      "provenance": [],
      "authorship_tag": "ABX9TyPQwReDTR/pwVK2OMDsg0+u",
      "include_colab_link": true
    },
    "kernelspec": {
      "name": "python3",
      "display_name": "Python 3"
    },
    "language_info": {
      "name": "python"
    }
  },
  "cells": [
    {
      "cell_type": "markdown",
      "metadata": {
        "id": "view-in-github",
        "colab_type": "text"
      },
      "source": [
        "<a href=\"https://colab.research.google.com/github/Ravi261197/practice-/blob/main/reverse_of_given_number.ipynb\" target=\"_parent\"><img src=\"https://colab.research.google.com/assets/colab-badge.svg\" alt=\"Open In Colab\"/></a>"
      ]
    },
    {
      "cell_type": "code",
      "metadata": {
        "colab": {
          "base_uri": "https://localhost:8080/"
        },
        "id": "cAzauj7nrCrA",
        "outputId": "e5cbc361-bbdc-4837-e207-1041a08b50c4"
      },
      "source": [
        "num=int(input(\"Enter the number\"))\n",
        "revs_num = 0\n",
        "while(num>0):\n",
        "    rem = num%10\n",
        "    revs_num=(revs_num*10)+rem\n",
        "    num=num//10\n",
        "print(\"The reverse number is :{}\".format(revs_num))"
      ],
      "execution_count": 2,
      "outputs": [
        {
          "output_type": "stream",
          "text": [
            "Enter the number1234567809\n",
            "The reverse number is :9087654321\n"
          ],
          "name": "stdout"
        }
      ]
    }
  ]
}