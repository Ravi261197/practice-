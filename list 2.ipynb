{
 "cells": [
  {
   "cell_type": "code",
   "execution_count": null,
   "id": "68d43074",
   "metadata": {},
   "outputs": [],
   "source": [
    "i=int(input(\"Enter number of Elements\"))\n",
    "a=[]\n",
    "for b in range(i):\n",
    "    a.append(int(input(\"Enter Elements\")))\n",
    "even=0\n",
    "odd=0\n",
    "for b in range(i):\n",
    "    if (a[b]%2==0):\n",
    "        even +=1\n",
    "    else:\n",
    "        odd +=1\n",
    "print(\"number of even is\",even)\n",
    "print(\"number of odd is\",odd)"
   ]
  }
 ],
 "metadata": {
  "kernelspec": {
   "display_name": "Python 3",
   "language": "python",
   "name": "python3"
  },
  "language_info": {
   "codemirror_mode": {
    "name": "ipython",
    "version": 3
   },
   "file_extension": ".py",
   "mimetype": "text/x-python",
   "name": "python",
   "nbconvert_exporter": "python",
   "pygments_lexer": "ipython3",
   "version": "3.8.8"
  }
 },
 "nbformat": 4,
 "nbformat_minor": 5
}
