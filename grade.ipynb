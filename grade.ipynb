{
 "cells": [
  {
   "cell_type": "code",
   "execution_count": 18,
   "id": "147b3f25",
   "metadata": {},
   "outputs": [
    {
     "name": "stdout",
     "output_type": "stream",
     "text": [
      "Enter Marks\n",
      "444\n",
      "Enter marks undere 100\n"
     ]
    }
   ],
   "source": [
    "# print of grade of student\n",
    "print(\"Enter Marks\")\n",
    "marks=int(input())\n",
    "if (marks<25):\n",
    "    print(\"F\")\n",
    "elif (marks>=25 and marks<45):\n",
    "    print(\"E\")\n",
    "elif (marks>=45 and marks<50):\n",
    "    print(\"D\")\n",
    "elif (marks>=50 and marks<60):\n",
    "    print(\"C\")\n",
    "elif (marks>=70 and marks<80):\n",
    "    print(\"B\")\n",
    "elif( marks>=80 and marks<90):\n",
    "    print(\"A\")\n",
    "elif( marks >=90 and marks<101):\n",
    "    print(\"A*\")\n",
    "else :\n",
    "    print(\"Enter marks undere 100\")"
   ]
  }
 ],
 "metadata": {
  "kernelspec": {
   "display_name": "Python 3",
   "language": "python",
   "name": "python3"
  },
  "language_info": {
   "codemirror_mode": {
    "name": "ipython",
    "version": 3
   },
   "file_extension": ".py",
   "mimetype": "text/x-python",
   "name": "python",
   "nbconvert_exporter": "python",
   "pygments_lexer": "ipython3",
   "version": "3.8.8"
  }
 },
 "nbformat": 4,
 "nbformat_minor": 5
}
