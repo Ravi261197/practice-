{
 "cells": [
  {
   "cell_type": "code",
   "execution_count": 1,
   "id": "0ec071dd",
   "metadata": {},
   "outputs": [
    {
     "name": "stdout",
     "output_type": "stream",
     "text": [
      "How many number you want to take average :-  5\n",
      "Enter the number\n",
      "55\n",
      "Enter the number\n",
      "23.4\n",
      "Enter the number\n",
      "33.4\n",
      "Enter the number\n",
      "44.5\n",
      "Enter the number\n",
      "3\n",
      "the average is 159.3\n"
     ]
    }
   ],
   "source": [
    "sum = 0\n",
    "i=int(input(\"How many number you want to take average :-  \"))\n",
    "while i>0:\n",
    "    print(\"Enter the number\")\n",
    "    num = float(input())\n",
    "    sum= sum + num\n",
    "    i=i-1\n",
    "print(\"the average is\",sum)"
   ]
  }
 ],
 "metadata": {
  "kernelspec": {
   "display_name": "Python 3",
   "language": "python",
   "name": "python3"
  },
  "language_info": {
   "codemirror_mode": {
    "name": "ipython",
    "version": 3
   },
   "file_extension": ".py",
   "mimetype": "text/x-python",
   "name": "python",
   "nbconvert_exporter": "python",
   "pygments_lexer": "ipython3",
   "version": "3.8.8"
  }
 },
 "nbformat": 4,
 "nbformat_minor": 5
}
