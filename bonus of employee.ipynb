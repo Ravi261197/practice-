{
 "cells": [
  {
   "cell_type": "code",
   "execution_count": null,
   "id": "c47021f2",
   "metadata": {},
   "outputs": [
    {
     "name": "stdout",
     "output_type": "stream",
     "text": [
      "Enter salary\n"
     ]
    }
   ],
   "source": [
    "# 5% bonus pm for employee who work more than 5 years\n",
    "print(\"Enter salary\")\n",
    "salary=int(input())\n",
    "print(\"Enter year of service\")\n",
    "yos=float(input())\n",
    "if yos>4:\n",
    "    print(\"your bonus is\",float(0.05*salary))\n",
    "    print(\"your new salary is\",salary+float(0.05*salary))\n",
    "else:\n",
    "    print(\"No Bonus\")"
   ]
  },
  {
   "cell_type": "code",
   "execution_count": null,
   "id": "5765182a",
   "metadata": {},
   "outputs": [],
   "source": []
  }
 ],
 "metadata": {
  "kernelspec": {
   "display_name": "Python 3",
   "language": "python",
   "name": "python3"
  },
  "language_info": {
   "codemirror_mode": {
    "name": "ipython",
    "version": 3
   },
   "file_extension": ".py",
   "mimetype": "text/x-python",
   "name": "python",
   "nbconvert_exporter": "python",
   "pygments_lexer": "ipython3",
   "version": "3.8.8"
  }
 },
 "nbformat": 4,
 "nbformat_minor": 5
}
