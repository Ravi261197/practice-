{
 "cells": [
  {
   "cell_type": "code",
   "execution_count": 3,
   "id": "abd5b885",
   "metadata": {},
   "outputs": [
    {
     "name": "stdout",
     "output_type": "stream",
     "text": [
      "enter the first number40\n",
      "enter second number50\n",
      "90\n"
     ]
    }
   ],
   "source": [
    "i=int(input(\"enter the first number\"))\n",
    "j=int(input(\"enter second number\"))\n",
    "prod=i*j\n",
    "sum=i+j\n",
    "if prod<=1000:\n",
    "    print(prod)\n",
    "else:\n",
    "    print(sum)"
   ]
  }
 ],
 "metadata": {
  "kernelspec": {
   "display_name": "Python 3",
   "language": "python",
   "name": "python3"
  },
  "language_info": {
   "codemirror_mode": {
    "name": "ipython",
    "version": 3
   },
   "file_extension": ".py",
   "mimetype": "text/x-python",
   "name": "python",
   "nbconvert_exporter": "python",
   "pygments_lexer": "ipython3",
   "version": "3.8.8"
  }
 },
 "nbformat": 4,
 "nbformat_minor": 5
}
