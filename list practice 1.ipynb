{
 "cells": [
  {
   "cell_type": "code",
   "execution_count": 6,
   "id": "7f2bd137",
   "metadata": {},
   "outputs": [
    {
     "name": "stdout",
     "output_type": "stream",
     "text": [
      "Enter number of Elements10\n",
      "Enter Elements55\n",
      "Enter Elements44\n",
      "Enter Elements33\n",
      "Enter Elements66\n",
      "Enter Elements77\n",
      "Enter Elements356\n",
      "Enter Elements646\n",
      "Enter Elements437\n",
      "Enter Elements78464\n",
      "Enter Elements567\n",
      "List is  [55, 44, 33, 66, 77, 356, 646, 437, 78464, 567]\n",
      "Enter Element you want to  check : 5556\n",
      "Your Element is not in list\n"
     ]
    }
   ],
   "source": [
    "# Take  inputs from user and store them in a list. Again ask user to give a number. Now, tell user whether that number is present in list or not.\n",
    "i=int(input(\"Enter number of Elements\"))\n",
    "a=[]\n",
    "for b in range(i):\n",
    "    a.append(int(input(\"Enter Elements\")))\n",
    "print(\"List is \",a)\n",
    "n=int(input(\"Enter Element you want to  check : \"))\n",
    "if n in a:\n",
    "    print(\"Your Element is in list\")\n",
    "else:\n",
    "    print(\"Your Element is not in list\")\n",
    "    "
   ]
  }
 ],
 "metadata": {
  "kernelspec": {
   "display_name": "Python 3",
   "language": "python",
   "name": "python3"
  },
  "language_info": {
   "codemirror_mode": {
    "name": "ipython",
    "version": 3
   },
   "file_extension": ".py",
   "mimetype": "text/x-python",
   "name": "python",
   "nbconvert_exporter": "python",
   "pygments_lexer": "ipython3",
   "version": "3.8.8"
  }
 },
 "nbformat": 4,
 "nbformat_minor": 5
}
