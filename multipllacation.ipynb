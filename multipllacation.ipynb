{
 "cells": [
  {
   "cell_type": "code",
   "execution_count": 33,
   "id": "48c770a4",
   "metadata": {},
   "outputs": [
    {
     "name": "stdout",
     "output_type": "stream",
     "text": [
      "Enter Length\n",
      "3\n",
      "Enter Breadth\n",
      "3\n",
      "9\n"
     ]
    }
   ],
   "source": [
    "# multplication with int\n",
    "print(\"Enter Length\")\n",
    "length= int(input())\n",
    "print(\"Enter Breadth\")\n",
    "breadth=int(input())\n",
    "print (length*breadth)"
   ]
  },
  {
   "cell_type": "code",
   "execution_count": 37,
   "id": "fc613565",
   "metadata": {},
   "outputs": [
    {
     "name": "stdout",
     "output_type": "stream",
     "text": [
      "Enter Length\n",
      "3.3\n",
      "Enter Breadth\n",
      "4.4\n",
      "14.52\n"
     ]
    }
   ],
   "source": [
    "# multplication with float\n",
    "print(\"Enter Length\")\n",
    "length = float(input())\n",
    "print(\"Enter Breadth\")\n",
    "breadth = float(input())\n",
    "print (length * breadth)"
   ]
  }
 ],
 "metadata": {
  "kernelspec": {
   "display_name": "Python 3",
   "language": "python",
   "name": "python3"
  },
  "language_info": {
   "codemirror_mode": {
    "name": "ipython",
    "version": 3
   },
   "file_extension": ".py",
   "mimetype": "text/x-python",
   "name": "python",
   "nbconvert_exporter": "python",
   "pygments_lexer": "ipython3",
   "version": "3.8.8"
  }
 },
 "nbformat": 4,
 "nbformat_minor": 5
}
