{
 "cells": [
  {
   "cell_type": "code",
   "execution_count": 7,
   "id": "0f412b1f",
   "metadata": {},
   "outputs": [
    {
     "name": "stdout",
     "output_type": "stream",
     "text": [
      "Enter the number12345\n",
      "revre number is 54321\n"
     ]
    }
   ],
   "source": [
    "i=int(input(\"Enter the number\"))\n",
    "rev=0\n",
    "while(i>0):\n",
    "    rev=(rev*10)+i%10\n",
    "    i=i//10\n",
    "print(\"revre number is\",rev)\n",
    "    "
   ]
  }
 ],
 "metadata": {
  "kernelspec": {
   "display_name": "Python 3",
   "language": "python",
   "name": "python3"
  },
  "language_info": {
   "codemirror_mode": {
    "name": "ipython",
    "version": 3
   },
   "file_extension": ".py",
   "mimetype": "text/x-python",
   "name": "python",
   "nbconvert_exporter": "python",
   "pygments_lexer": "ipython3",
   "version": "3.8.8"
  }
 },
 "nbformat": 4,
 "nbformat_minor": 5
}
