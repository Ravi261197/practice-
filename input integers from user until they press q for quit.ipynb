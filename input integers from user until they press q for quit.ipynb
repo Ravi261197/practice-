{
 "cells": [
  {
   "cell_type": "code",
   "execution_count": 13,
   "id": "a3603d81",
   "metadata": {},
   "outputs": [
    {
     "name": "stdout",
     "output_type": "stream",
     "text": [
      "press q if your inputinng is done\n",
      "start inputing number 3\n",
      "q\n",
      "sum is  3 product is  3\n"
     ]
    }
   ],
   "source": [
    "sum=0\n",
    "prod=1\n",
    "print(\"press q if your inputinng is done\")\n",
    "while True:\n",
    "    i=int(input(\"start inputing number \"))\n",
    "    sum=sum+i\n",
    "    prod=prod*i\n",
    "    quit=str(input())\n",
    "    if quit=='q':\n",
    "        break\n",
    "print(\"sum is \",sum,\"product is \",prod)"
   ]
  }
 ],
 "metadata": {
  "kernelspec": {
   "display_name": "Python 3",
   "language": "python",
   "name": "python3"
  },
  "language_info": {
   "codemirror_mode": {
    "name": "ipython",
    "version": 3
   },
   "file_extension": ".py",
   "mimetype": "text/x-python",
   "name": "python",
   "nbconvert_exporter": "python",
   "pygments_lexer": "ipython3",
   "version": "3.8.8"
  }
 },
 "nbformat": 4,
 "nbformat_minor": 5
}
