{
 "cells": [
  {
   "cell_type": "code",
   "execution_count": 5,
   "id": "01ddc09e",
   "metadata": {},
   "outputs": [
    {
     "name": "stdout",
     "output_type": "stream",
     "text": [
      "Enter number of Elements10\n",
      "Enter element33\n",
      "input Element : [33]\n",
      "Enter element45\n",
      "input Element : [33, 45]\n",
      "Enter element67\n",
      "input Element : [33, 45, 67]\n",
      "Enter element33\n",
      "input Element : [33, 45, 67, 33]\n",
      "Enter element55\n",
      "input Element : [33, 45, 67, 33, 55]\n",
      "Enter element75\n",
      "input Element : [33, 45, 67, 33, 55, 75]\n",
      "Enter element754\n",
      "input Element : [33, 45, 67, 33, 55, 75, 754]\n",
      "Enter element78\n",
      "input Element : [33, 45, 67, 33, 55, 75, 754, 78]\n",
      "Enter element53\n",
      "input Element : [33, 45, 67, 33, 55, 75, 754, 78, 53]\n",
      "Enter element675\n",
      "input Element : [33, 45, 67, 33, 55, 75, 754, 78, 53, 675]\n",
      "Reverse Element [675, 53, 78, 754, 75, 55, 33, 67, 45, 33]\n"
     ]
    }
   ],
   "source": [
    "i=int(input(\"Enter number of Elements\"))\n",
    "a=[]\n",
    "for b in range(i):\n",
    "    a.append(int(input(\"Enter element\")))\n",
    "    print(\"input Element :\",a)\n",
    "a.reverse()\n",
    "c=a\n",
    "a.reverse\n",
    "print(\"Reverse Element\",c)\n",
    "    "
   ]
  }
 ],
 "metadata": {
  "kernelspec": {
   "display_name": "Python 3",
   "language": "python",
   "name": "python3"
  },
  "language_info": {
   "codemirror_mode": {
    "name": "ipython",
    "version": 3
   },
   "file_extension": ".py",
   "mimetype": "text/x-python",
   "name": "python",
   "nbconvert_exporter": "python",
   "pygments_lexer": "ipython3",
   "version": "3.8.8"
  }
 },
 "nbformat": 4,
 "nbformat_minor": 5
}
