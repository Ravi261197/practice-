{
 "cells": [
  {
   "cell_type": "code",
   "execution_count": 7,
   "id": "09494e1a",
   "metadata": {},
   "outputs": [
    {
     "name": "stdout",
     "output_type": "stream",
     "text": [
      "Enter the Factorial number:- 5\n",
      "The Factorial is 120\n"
     ]
    }
   ],
   "source": [
    "x = int(input(\"Enter the Factorial number:- \"))\n",
    "fac = 1\n",
    "while x>=1:\n",
    "    fac = fac*x\n",
    "    x = x-1\n",
    "print(\"The Factorial is\",fac)"
   ]
  }
 ],
 "metadata": {
  "kernelspec": {
   "display_name": "Python 3",
   "language": "python",
   "name": "python3"
  },
  "language_info": {
   "codemirror_mode": {
    "name": "ipython",
    "version": 3
   },
   "file_extension": ".py",
   "mimetype": "text/x-python",
   "name": "python",
   "nbconvert_exporter": "python",
   "pygments_lexer": "ipython3",
   "version": "3.8.8"
  }
 },
 "nbformat": 4,
 "nbformat_minor": 5
}
