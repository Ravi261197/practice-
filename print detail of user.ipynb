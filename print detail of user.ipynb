{
 "cells": [
  {
   "cell_type": "code",
   "execution_count": null,
   "id": "c0082336",
   "metadata": {},
   "outputs": [
    {
     "name": "stdout",
     "output_type": "stream",
     "text": [
      "Enter Name\n"
     ]
    }
   ],
   "source": [
    "#print detail and interest of user\n",
    "print(\"Enter Name\")\n",
    "name =input()\n",
    "print(\"Enter roll number\")\n",
    "roll =int(input())\n",
    "print(\"Field of interests\")\n",
    "interest = input()\n",
    "print (\"Hey my name is\",name,\". my Roll number is\",roll,\"and my area of interest is\",interest)\n"
   ]
  }
 ],
 "metadata": {
  "kernelspec": {
   "display_name": "Python 3",
   "language": "python",
   "name": "python3"
  },
  "language_info": {
   "codemirror_mode": {
    "name": "ipython",
    "version": 3
   },
   "file_extension": ".py",
   "mimetype": "text/x-python",
   "name": "python",
   "nbconvert_exporter": "python",
   "pygments_lexer": "ipython3",
   "version": "3.8.10"
  }
 },
 "nbformat": 4,
 "nbformat_minor": 5
}
