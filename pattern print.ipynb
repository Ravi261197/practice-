{
 "cells": [
  {
   "cell_type": "code",
   "execution_count": 1,
   "id": "9b2fe096",
   "metadata": {},
   "outputs": [
    {
     "name": "stdout",
     "output_type": "stream",
     "text": [
      "*\n",
      "**\n",
      "***\n",
      "****\n",
      "*****\n"
     ]
    }
   ],
   "source": [
    "i=1\n",
    "while i<=5:\n",
    "    j=1\n",
    "    while j<=i:\n",
    "        print('*',end='')\n",
    "        j=j+1\n",
    "    print()\n",
    "    i=i+1\n",
    "        "
   ]
  },
  {
   "cell_type": "code",
   "execution_count": 2,
   "id": "85aeb27f",
   "metadata": {},
   "outputs": [
    {
     "name": "stdout",
     "output_type": "stream",
     "text": [
      "    *\n",
      "   **\n",
      "  ***\n",
      " ****\n",
      "*****\n"
     ]
    }
   ],
   "source": [
    "i=1\n",
    "while i<=5:\n",
    "    b=1\n",
    "    while b<=5-i:\n",
    "        print(\" \",end=\"\")\n",
    "        b=b+1\n",
    "    j=1\n",
    "    while j<=i:\n",
    "        print(\"*\",end=\"\")\n",
    "        j=j+1\n",
    "    print()\n",
    "    i=i+1"
   ]
  },
  {
   "cell_type": "code",
   "execution_count": 3,
   "id": "9d6f4b8d",
   "metadata": {},
   "outputs": [
    {
     "name": "stdout",
     "output_type": "stream",
     "text": [
      "    *\n",
      "   ***\n",
      "  *****\n",
      " *******\n",
      "*********\n"
     ]
    }
   ],
   "source": [
    "k=1\n",
    "i=1\n",
    "while i<=5:\n",
    "    b=1\n",
    "    while b<=5-i:\n",
    "        print(\" \",end=\"\")\n",
    "        b=b+1\n",
    "    j=1\n",
    "    while j<=k:\n",
    "        print(\"*\",end=\"\")\n",
    "        j=j+1\n",
    "    k=k+2\n",
    "    print()\n",
    "    i=i+1"
   ]
  },
  {
   "cell_type": "code",
   "execution_count": 8,
   "id": "abbb8a31",
   "metadata": {},
   "outputs": [
    {
     "name": "stdout",
     "output_type": "stream",
     "text": [
      "Enter number rows you want to print :-5\n",
      "*********\n",
      " *******\n",
      "  *****\n",
      "   ***\n",
      "    *\n"
     ]
    }
   ],
   "source": [
    "n=int(input(\"Enter number rows you want to print :-\"))\n",
    "i=1\n",
    "while(n>0):\n",
    "    b=1\n",
    "    while(b<i):\n",
    "        print(\" \",end=\"\")\n",
    "        b=b+1\n",
    "    j=1\n",
    "    while(j<=(n*2)-1):\n",
    "        print(\"*\",end=\"\")\n",
    "        j=j+1\n",
    "    print()\n",
    "    n=n-1\n",
    "    i=i+1"
   ]
  },
  {
   "cell_type": "code",
   "execution_count": 10,
   "id": "13bd58e6",
   "metadata": {},
   "outputs": [
    {
     "name": "stdout",
     "output_type": "stream",
     "text": [
      "Enter number rows you want to print :-5\n",
      "111111111\n",
      " 2222222\n",
      "  33333\n",
      "   444\n",
      "    5\n"
     ]
    }
   ],
   "source": [
    "n=int(input(\"Enter number rows you want to print :-\"))\n",
    "i=1\n",
    "while(n>0):\n",
    "    b=1\n",
    "    while(b<i):\n",
    "        print(\" \",end=\"\")\n",
    "        b=b+1\n",
    "    j=1\n",
    "    while(j<=(n*2)-1):\n",
    "        print(i,end=\"\")\n",
    "        j=j+1\n",
    "    print()\n",
    "    n=n-1\n",
    "    i=i+1"
   ]
  }
 ],
 "metadata": {
  "kernelspec": {
   "display_name": "Python 3",
   "language": "python",
   "name": "python3"
  },
  "language_info": {
   "codemirror_mode": {
    "name": "ipython",
    "version": 3
   },
   "file_extension": ".py",
   "mimetype": "text/x-python",
   "name": "python",
   "nbconvert_exporter": "python",
   "pygments_lexer": "ipython3",
   "version": "3.8.8"
  }
 },
 "nbformat": 4,
 "nbformat_minor": 5
}
